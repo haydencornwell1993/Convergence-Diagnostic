{
 "cells": [
  {
   "cell_type": "markdown",
   "metadata": {},
   "source": [
    "The first step in this project is to create the test points. In theory, this can be done manually, but in order to scale the project, it is best to automatically create all of the test files. In order to run this, there needs to be a template \"Test\" file for a baseline simulation. This file will be read and the appropriate values will be replaced and copied for many test files. \n",
    "\n",
    "Here, the pyDOE2 library is used to create a fractional factorial design. This will assign combinations of test conditions to cover a wide range of conditions while limiting the number of data points."
   ]
  },
  {
   "cell_type": "code",
   "execution_count": 27,
   "metadata": {},
   "outputs": [],
   "source": [
    "original = \"Test_RVE\"\n",
    "file = open(original + \".vt\",'r')\n",
    "data = file.readlines()\n",
    "data = [x.strip(\"\\t\") for x in data]\n",
    "\n",
    "import pyDOE2\n",
    "import numpy as np\n",
    "\n",
    "#Create factorial design\n",
    "strains = pyDOE2.gsd([3,3,3],2)\n",
    "strains = strains + 1\n",
    "strains = np.insert(strains, 2, 4, axis=1)\n",
    "strains = np.insert(strains, 4, 4, axis=1)\n",
    "strains = np.insert(strains, 5, 4, axis=1)\n",
    "\n",
    "#Time Step array\n",
    "ts = [0.001, 0.005, 0.01, 0.05, 0.1]\n",
    "\n",
    "for i in range(len(strains)):\n",
    "    for j in range(len(ts)):\n",
    "        f = open(original + \"v_\" + str(i) + str(j) + \".vt\", \"w+\")\n",
    "        for k in range(len(data)):\n",
    "            if k == 6:\n",
    "                f.write(data[k].replace(\"0.03\", str(ts[j]), 3))\n",
    "            elif k == 16:\n",
    "                f.write(data[k].replace(\"33\", str(int(1/ts[j])), 1))\n",
    "            else:\n",
    "                f.write(data[k].replace(\"\\t1\\t1\\t1\\t1\\t1\\t1\", \"\\t\" + str(strains[i,0]) + \"\\t\" + str(strains[i,1]) + \\\n",
    "                                        \"\\t\" + str(strains[i,2]) + \"\\t\" + str(strains[i,3]) + \\\n",
    "                                        \"\\t\" + str(strains[i,4]) + \"\\t\" + str(strains[i,5])))\n",
    "  "
   ]
  },
  {
   "cell_type": "code",
   "execution_count": 31,
   "metadata": {},
   "outputs": [],
   "source": [
    "test = np.zeros([len(strains)*len(ts), 13])\n",
    "strains = np.where(strains == 1, 0.05, strains)\n",
    "strains = np.where(strains == 2, 0.015, strains)\n",
    "strains = np.where(strains == 3, 0.005, strains)\n",
    "strains = np.where(strains == 4, 0.0015, strains)\n",
    "count = 0\n",
    "for i in range(len(strains)):\n",
    "    for j in range(len(ts)):\n",
    "        x = np.append(strains[i], ts[j])\n",
    "        x = np.append(x, strains[i]*ts[j])\n",
    "        test[count] = x\n",
    "        count = count + 1\n",
    "        \n",
    "np.savetxt(\"Test_Cases.csv\", test, delimiter=\",\", header = \"Stain 11,Strain 22,Strain 33,Strain 12,Strain 13,Strain 23,\" + \\\n",
    "           \"Time Step,Stain 11 per TS,Strain 22 per TS,Strain 33 per TS,Strain 12 per TS,Strain 13 per TS,\" + \\\n",
    "           \"Strain 23 per TS,\" + str(len(strains)) + \",\" + str(len(ts)))"
   ]
  },
  {
   "cell_type": "code",
   "execution_count": null,
   "metadata": {},
   "outputs": [],
   "source": []
  }
 ],
 "metadata": {
  "kernelspec": {
   "display_name": "Python 3",
   "language": "python",
   "name": "python3"
  },
  "language_info": {
   "codemirror_mode": {
    "name": "ipython",
    "version": 3
   },
   "file_extension": ".py",
   "mimetype": "text/x-python",
   "name": "python",
   "nbconvert_exporter": "python",
   "pygments_lexer": "ipython3",
   "version": "3.7.4"
  }
 },
 "nbformat": 4,
 "nbformat_minor": 2
}

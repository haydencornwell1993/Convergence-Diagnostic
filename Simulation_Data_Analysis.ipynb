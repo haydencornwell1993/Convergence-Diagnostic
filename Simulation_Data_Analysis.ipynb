{
 "cells": [
  {
   "cell_type": "markdown",
   "metadata": {},
   "source": [
    "The previous scripts fascilitated the creation of the DOE of simulation files and compiling all of the results. From this were 3 different CSV files. \n",
    "\n",
    "Log_Diagnostic.csv - Data points that are extracted from the simulation log file. \n",
    "Failure_Diagnostic.csv - Data from the results of the simulation\n",
    "Test_Cases.csv - Strains applied to the model\n",
    "\n",
    "The following analysis will explore the data from the simulations. The goal is to gain insight into the general convergence properties of the numerical model.\n",
    "\n",
    "First, import the data into a pandas data frame. "
   ]
  },
  {
   "cell_type": "code",
   "execution_count": 1,
   "metadata": {},
   "outputs": [],
   "source": [
    "import pandas as pd\n",
    "import numpy as np\n",
    "Log = pd.read_csv(\"Log_Diagnostic.csv\")\n",
    "Fail = pd.read_csv(\"Failure_Diagnostic.csv\")\n",
    "Strain = pd.read_csv(\"Test_Cases.csv\")"
   ]
  },
  {
   "cell_type": "code",
   "execution_count": 2,
   "metadata": {},
   "outputs": [
    {
     "data": {
      "text/html": [
       "<div>\n",
       "<style scoped>\n",
       "    .dataframe tbody tr th:only-of-type {\n",
       "        vertical-align: middle;\n",
       "    }\n",
       "\n",
       "    .dataframe tbody tr th {\n",
       "        vertical-align: top;\n",
       "    }\n",
       "\n",
       "    .dataframe thead th {\n",
       "        text-align: right;\n",
       "    }\n",
       "</style>\n",
       "<table border=\"1\" class=\"dataframe\">\n",
       "  <thead>\n",
       "    <tr style=\"text-align: right;\">\n",
       "      <th></th>\n",
       "      <th>Unnamed: 0</th>\n",
       "      <th>Time</th>\n",
       "      <th>Memory</th>\n",
       "      <th>Avg_Iterations_perTS</th>\n",
       "      <th>Completed</th>\n",
       "      <th>Still Running</th>\n",
       "      <th>Plastic Conv. Err</th>\n",
       "      <th>Conv. Iter. Err</th>\n",
       "      <th>Conv. Err</th>\n",
       "    </tr>\n",
       "  </thead>\n",
       "  <tbody>\n",
       "    <tr>\n",
       "      <td>0</td>\n",
       "      <td>0</td>\n",
       "      <td>43165</td>\n",
       "      <td>255028</td>\n",
       "      <td>9.898089</td>\n",
       "      <td>False</td>\n",
       "      <td>False</td>\n",
       "      <td>False</td>\n",
       "      <td>True</td>\n",
       "      <td>0.0163917</td>\n",
       "    </tr>\n",
       "    <tr>\n",
       "      <td>1</td>\n",
       "      <td>1</td>\n",
       "      <td>247</td>\n",
       "      <td>255092</td>\n",
       "      <td>13.492063</td>\n",
       "      <td>False</td>\n",
       "      <td>False</td>\n",
       "      <td>False</td>\n",
       "      <td>True</td>\n",
       "      <td>1.5041</td>\n",
       "    </tr>\n",
       "    <tr>\n",
       "      <td>2</td>\n",
       "      <td>2</td>\n",
       "      <td>4065</td>\n",
       "      <td>254716</td>\n",
       "      <td>12.500000</td>\n",
       "      <td>False</td>\n",
       "      <td>False</td>\n",
       "      <td>False</td>\n",
       "      <td>True</td>\n",
       "      <td>0.960652</td>\n",
       "    </tr>\n",
       "    <tr>\n",
       "      <td>3</td>\n",
       "      <td>3</td>\n",
       "      <td>3171</td>\n",
       "      <td>254252</td>\n",
       "      <td>21.571429</td>\n",
       "      <td>False</td>\n",
       "      <td>False</td>\n",
       "      <td>False</td>\n",
       "      <td>True</td>\n",
       "      <td>16.1671</td>\n",
       "    </tr>\n",
       "    <tr>\n",
       "      <td>4</td>\n",
       "      <td>4</td>\n",
       "      <td>2245</td>\n",
       "      <td>253320</td>\n",
       "      <td>19.333333</td>\n",
       "      <td>False</td>\n",
       "      <td>False</td>\n",
       "      <td>False</td>\n",
       "      <td>True</td>\n",
       "      <td>4.91486</td>\n",
       "    </tr>\n",
       "  </tbody>\n",
       "</table>\n",
       "</div>"
      ],
      "text/plain": [
       "   Unnamed: 0   Time  Memory  Avg_Iterations_perTS  Completed  Still Running  \\\n",
       "0           0  43165  255028              9.898089      False          False   \n",
       "1           1    247  255092             13.492063      False          False   \n",
       "2           2   4065  254716             12.500000      False          False   \n",
       "3           3   3171  254252             21.571429      False          False   \n",
       "4           4   2245  253320             19.333333      False          False   \n",
       "\n",
       "   Plastic Conv. Err  Conv. Iter. Err  Conv. Err  \n",
       "0              False             True  0.0163917  \n",
       "1              False             True     1.5041  \n",
       "2              False             True   0.960652  \n",
       "3              False             True    16.1671  \n",
       "4              False             True    4.91486  "
      ]
     },
     "execution_count": 2,
     "metadata": {},
     "output_type": "execute_result"
    }
   ],
   "source": [
    "Log.head()"
   ]
  },
  {
   "cell_type": "code",
   "execution_count": 3,
   "metadata": {},
   "outputs": [
    {
     "data": {
      "text/html": [
       "<div>\n",
       "<style scoped>\n",
       "    .dataframe tbody tr th:only-of-type {\n",
       "        vertical-align: middle;\n",
       "    }\n",
       "\n",
       "    .dataframe tbody tr th {\n",
       "        vertical-align: top;\n",
       "    }\n",
       "\n",
       "    .dataframe thead th {\n",
       "        text-align: right;\n",
       "    }\n",
       "</style>\n",
       "<table border=\"1\" class=\"dataframe\">\n",
       "  <thead>\n",
       "    <tr style=\"text-align: right;\">\n",
       "      <th></th>\n",
       "      <th>Unnamed: 0</th>\n",
       "      <th>Failed S11</th>\n",
       "      <th>Failed S22</th>\n",
       "      <th>Failed S33</th>\n",
       "      <th>Failed S12</th>\n",
       "      <th>Failed S13</th>\n",
       "      <th>Failed S23</th>\n",
       "      <th>F11</th>\n",
       "      <th>F22</th>\n",
       "      <th>F33</th>\n",
       "      <th>F12</th>\n",
       "      <th>F13</th>\n",
       "      <th>F23</th>\n",
       "      <th>E11</th>\n",
       "      <th>E22</th>\n",
       "      <th>E33</th>\n",
       "      <th>E12</th>\n",
       "      <th>E13</th>\n",
       "      <th>E23</th>\n",
       "    </tr>\n",
       "  </thead>\n",
       "  <tbody>\n",
       "    <tr>\n",
       "      <td>0</td>\n",
       "      <td>0</td>\n",
       "      <td>True</td>\n",
       "      <td>True</td>\n",
       "      <td>False</td>\n",
       "      <td>True</td>\n",
       "      <td>True</td>\n",
       "      <td>True</td>\n",
       "      <td>0.999943</td>\n",
       "      <td>0.221726</td>\n",
       "      <td>1.000000</td>\n",
       "      <td>0.313227</td>\n",
       "      <td>0.393720</td>\n",
       "      <td>0.556419</td>\n",
       "      <td>0.01575</td>\n",
       "      <td>0.01575</td>\n",
       "      <td>0.000472</td>\n",
       "      <td>0.01575</td>\n",
       "      <td>0.000472</td>\n",
       "      <td>0.000472</td>\n",
       "    </tr>\n",
       "    <tr>\n",
       "      <td>1</td>\n",
       "      <td>1</td>\n",
       "      <td>True</td>\n",
       "      <td>True</td>\n",
       "      <td>False</td>\n",
       "      <td>True</td>\n",
       "      <td>True</td>\n",
       "      <td>True</td>\n",
       "      <td>0.998893</td>\n",
       "      <td>0.205587</td>\n",
       "      <td>1.000000</td>\n",
       "      <td>0.160935</td>\n",
       "      <td>0.350781</td>\n",
       "      <td>0.416963</td>\n",
       "      <td>0.01600</td>\n",
       "      <td>0.01600</td>\n",
       "      <td>0.000480</td>\n",
       "      <td>0.01600</td>\n",
       "      <td>0.000480</td>\n",
       "      <td>0.000480</td>\n",
       "    </tr>\n",
       "    <tr>\n",
       "      <td>2</td>\n",
       "      <td>2</td>\n",
       "      <td>False</td>\n",
       "      <td>True</td>\n",
       "      <td>True</td>\n",
       "      <td>False</td>\n",
       "      <td>True</td>\n",
       "      <td>True</td>\n",
       "      <td>1.000000</td>\n",
       "      <td>0.128643</td>\n",
       "      <td>0.794225</td>\n",
       "      <td>1.000000</td>\n",
       "      <td>0.988369</td>\n",
       "      <td>0.163186</td>\n",
       "      <td>0.00950</td>\n",
       "      <td>0.00950</td>\n",
       "      <td>0.000285</td>\n",
       "      <td>0.00950</td>\n",
       "      <td>0.000285</td>\n",
       "      <td>0.000285</td>\n",
       "    </tr>\n",
       "    <tr>\n",
       "      <td>3</td>\n",
       "      <td>3</td>\n",
       "      <td>True</td>\n",
       "      <td>True</td>\n",
       "      <td>True</td>\n",
       "      <td>True</td>\n",
       "      <td>False</td>\n",
       "      <td>True</td>\n",
       "      <td>0.012024</td>\n",
       "      <td>0.182259</td>\n",
       "      <td>0.641348</td>\n",
       "      <td>0.318493</td>\n",
       "      <td>1.000000</td>\n",
       "      <td>0.081013</td>\n",
       "      <td>0.02000</td>\n",
       "      <td>0.02000</td>\n",
       "      <td>0.000600</td>\n",
       "      <td>0.02000</td>\n",
       "      <td>0.000600</td>\n",
       "      <td>0.000600</td>\n",
       "    </tr>\n",
       "    <tr>\n",
       "      <td>4</td>\n",
       "      <td>4</td>\n",
       "      <td>False</td>\n",
       "      <td>True</td>\n",
       "      <td>True</td>\n",
       "      <td>True</td>\n",
       "      <td>True</td>\n",
       "      <td>True</td>\n",
       "      <td>1.000000</td>\n",
       "      <td>0.101656</td>\n",
       "      <td>0.711523</td>\n",
       "      <td>-1.039426</td>\n",
       "      <td>-0.535740</td>\n",
       "      <td>0.315123</td>\n",
       "      <td>0.02000</td>\n",
       "      <td>0.02000</td>\n",
       "      <td>0.000600</td>\n",
       "      <td>0.02000</td>\n",
       "      <td>0.000600</td>\n",
       "      <td>0.000600</td>\n",
       "    </tr>\n",
       "  </tbody>\n",
       "</table>\n",
       "</div>"
      ],
      "text/plain": [
       "   Unnamed: 0  Failed S11  Failed S22  Failed S33  Failed S12  Failed S13  \\\n",
       "0           0        True        True       False        True        True   \n",
       "1           1        True        True       False        True        True   \n",
       "2           2       False        True        True       False        True   \n",
       "3           3        True        True        True        True       False   \n",
       "4           4       False        True        True        True        True   \n",
       "\n",
       "   Failed S23       F11       F22       F33       F12       F13       F23  \\\n",
       "0        True  0.999943  0.221726  1.000000  0.313227  0.393720  0.556419   \n",
       "1        True  0.998893  0.205587  1.000000  0.160935  0.350781  0.416963   \n",
       "2        True  1.000000  0.128643  0.794225  1.000000  0.988369  0.163186   \n",
       "3        True  0.012024  0.182259  0.641348  0.318493  1.000000  0.081013   \n",
       "4        True  1.000000  0.101656  0.711523 -1.039426 -0.535740  0.315123   \n",
       "\n",
       "       E11      E22       E33      E12       E13       E23  \n",
       "0  0.01575  0.01575  0.000472  0.01575  0.000472  0.000472  \n",
       "1  0.01600  0.01600  0.000480  0.01600  0.000480  0.000480  \n",
       "2  0.00950  0.00950  0.000285  0.00950  0.000285  0.000285  \n",
       "3  0.02000  0.02000  0.000600  0.02000  0.000600  0.000600  \n",
       "4  0.02000  0.02000  0.000600  0.02000  0.000600  0.000600  "
      ]
     },
     "execution_count": 3,
     "metadata": {},
     "output_type": "execute_result"
    }
   ],
   "source": [
    "Fail.head()"
   ]
  },
  {
   "cell_type": "code",
   "execution_count": 4,
   "metadata": {},
   "outputs": [
    {
     "data": {
      "text/html": [
       "<div>\n",
       "<style scoped>\n",
       "    .dataframe tbody tr th:only-of-type {\n",
       "        vertical-align: middle;\n",
       "    }\n",
       "\n",
       "    .dataframe tbody tr th {\n",
       "        vertical-align: top;\n",
       "    }\n",
       "\n",
       "    .dataframe thead th {\n",
       "        text-align: right;\n",
       "    }\n",
       "</style>\n",
       "<table border=\"1\" class=\"dataframe\">\n",
       "  <thead>\n",
       "    <tr style=\"text-align: right;\">\n",
       "      <th></th>\n",
       "      <th># Stain 11</th>\n",
       "      <th>Strain 22</th>\n",
       "      <th>Strain 33</th>\n",
       "      <th>Strain 12</th>\n",
       "      <th>Strain 13</th>\n",
       "      <th>Strain 23</th>\n",
       "      <th>Time Step</th>\n",
       "      <th>Stain 11 per TS</th>\n",
       "      <th>Strain 22 per TS</th>\n",
       "      <th>Strain 33 per TS</th>\n",
       "      <th>Strain 12 per TS</th>\n",
       "      <th>Strain 13 per TS</th>\n",
       "      <th>Strain 23 per TS</th>\n",
       "      <th>14</th>\n",
       "      <th>5</th>\n",
       "    </tr>\n",
       "  </thead>\n",
       "  <tbody>\n",
       "    <tr>\n",
       "      <td>0</td>\n",
       "      <td>0.05</td>\n",
       "      <td>0.05</td>\n",
       "      <td>0.0015</td>\n",
       "      <td>0.05</td>\n",
       "      <td>0.0015</td>\n",
       "      <td>0.0015</td>\n",
       "      <td>0.001</td>\n",
       "      <td>0.00005</td>\n",
       "      <td>0.00005</td>\n",
       "      <td>0.000002</td>\n",
       "      <td>0.00005</td>\n",
       "      <td>0.000002</td>\n",
       "      <td>0.000002</td>\n",
       "      <td>NaN</td>\n",
       "      <td>NaN</td>\n",
       "    </tr>\n",
       "    <tr>\n",
       "      <td>1</td>\n",
       "      <td>0.05</td>\n",
       "      <td>0.05</td>\n",
       "      <td>0.0015</td>\n",
       "      <td>0.05</td>\n",
       "      <td>0.0015</td>\n",
       "      <td>0.0015</td>\n",
       "      <td>0.005</td>\n",
       "      <td>0.00025</td>\n",
       "      <td>0.00025</td>\n",
       "      <td>0.000008</td>\n",
       "      <td>0.00025</td>\n",
       "      <td>0.000008</td>\n",
       "      <td>0.000008</td>\n",
       "      <td>NaN</td>\n",
       "      <td>NaN</td>\n",
       "    </tr>\n",
       "    <tr>\n",
       "      <td>2</td>\n",
       "      <td>0.05</td>\n",
       "      <td>0.05</td>\n",
       "      <td>0.0015</td>\n",
       "      <td>0.05</td>\n",
       "      <td>0.0015</td>\n",
       "      <td>0.0015</td>\n",
       "      <td>0.010</td>\n",
       "      <td>0.00050</td>\n",
       "      <td>0.00050</td>\n",
       "      <td>0.000015</td>\n",
       "      <td>0.00050</td>\n",
       "      <td>0.000015</td>\n",
       "      <td>0.000015</td>\n",
       "      <td>NaN</td>\n",
       "      <td>NaN</td>\n",
       "    </tr>\n",
       "    <tr>\n",
       "      <td>3</td>\n",
       "      <td>0.05</td>\n",
       "      <td>0.05</td>\n",
       "      <td>0.0015</td>\n",
       "      <td>0.05</td>\n",
       "      <td>0.0015</td>\n",
       "      <td>0.0015</td>\n",
       "      <td>0.050</td>\n",
       "      <td>0.00250</td>\n",
       "      <td>0.00250</td>\n",
       "      <td>0.000075</td>\n",
       "      <td>0.00250</td>\n",
       "      <td>0.000075</td>\n",
       "      <td>0.000075</td>\n",
       "      <td>NaN</td>\n",
       "      <td>NaN</td>\n",
       "    </tr>\n",
       "    <tr>\n",
       "      <td>4</td>\n",
       "      <td>0.05</td>\n",
       "      <td>0.05</td>\n",
       "      <td>0.0015</td>\n",
       "      <td>0.05</td>\n",
       "      <td>0.0015</td>\n",
       "      <td>0.0015</td>\n",
       "      <td>0.100</td>\n",
       "      <td>0.00500</td>\n",
       "      <td>0.00500</td>\n",
       "      <td>0.000150</td>\n",
       "      <td>0.00500</td>\n",
       "      <td>0.000150</td>\n",
       "      <td>0.000150</td>\n",
       "      <td>NaN</td>\n",
       "      <td>NaN</td>\n",
       "    </tr>\n",
       "  </tbody>\n",
       "</table>\n",
       "</div>"
      ],
      "text/plain": [
       "   # Stain 11  Strain 22  Strain 33  Strain 12  Strain 13  Strain 23  \\\n",
       "0        0.05       0.05     0.0015       0.05     0.0015     0.0015   \n",
       "1        0.05       0.05     0.0015       0.05     0.0015     0.0015   \n",
       "2        0.05       0.05     0.0015       0.05     0.0015     0.0015   \n",
       "3        0.05       0.05     0.0015       0.05     0.0015     0.0015   \n",
       "4        0.05       0.05     0.0015       0.05     0.0015     0.0015   \n",
       "\n",
       "   Time Step  Stain 11 per TS  Strain 22 per TS  Strain 33 per TS  \\\n",
       "0      0.001          0.00005           0.00005          0.000002   \n",
       "1      0.005          0.00025           0.00025          0.000008   \n",
       "2      0.010          0.00050           0.00050          0.000015   \n",
       "3      0.050          0.00250           0.00250          0.000075   \n",
       "4      0.100          0.00500           0.00500          0.000150   \n",
       "\n",
       "   Strain 12 per TS  Strain 13 per TS  Strain 23 per TS  14   5  \n",
       "0           0.00005          0.000002          0.000002 NaN NaN  \n",
       "1           0.00025          0.000008          0.000008 NaN NaN  \n",
       "2           0.00050          0.000015          0.000015 NaN NaN  \n",
       "3           0.00250          0.000075          0.000075 NaN NaN  \n",
       "4           0.00500          0.000150          0.000150 NaN NaN  "
      ]
     },
     "execution_count": 4,
     "metadata": {},
     "output_type": "execute_result"
    }
   ],
   "source": [
    "Strain.head()"
   ]
  },
  {
   "cell_type": "markdown",
   "metadata": {},
   "source": [
    "First the baseline metrics of the runs will be computed. There are a couple different errors that can be thrown for an incomplete simulation. "
   ]
  },
  {
   "cell_type": "code",
   "execution_count": 5,
   "metadata": {},
   "outputs": [
    {
     "name": "stdout",
     "output_type": "stream",
     "text": [
      "Percentage of Unconverged Runs: % 51.0\n",
      "Percentage of Plasticity Errors: % 0.0\n",
      "Percentage of Completed Runs: % 49.0\n",
      "Avergae Iterations Per Time Step: 11.52\n"
     ]
    }
   ],
   "source": [
    "#Overall metrics of model\n",
    "sample = len(Log)\n",
    "\n",
    "#Percentage of Convergence issues\n",
    "conv_score = sum(Log[\"Conv. Iter. Err\"])/sample\n",
    "\n",
    "#Percentage of Plasticity issues\n",
    "plas_score = sum(Log[\"Plastic Conv. Err\"])/sample\n",
    "\n",
    "#Percentage of Completed VTs\n",
    "comp_score = sum(Log[\"Completed\"])/sample\n",
    "\n",
    "#Sensitivity of time step to \n",
    "iter_score = sum(Log[\"Avg_Iterations_perTS\"])/sample\n",
    "\n",
    "print(\"Percentage of Unconverged Runs: %\", 100*round(conv_score, 2))\n",
    "print(\"Percentage of Plasticity Errors: %\", 100*round(plas_score, 2))\n",
    "print(\"Percentage of Completed Runs: %\", 100*round(comp_score, 2))\n",
    "print(\"Avergae Iterations Per Time Step:\", round(iter_score, 2))"
   ]
  },
  {
   "cell_type": "markdown",
   "metadata": {},
   "source": [
    "Less than half of the simulations finished, with all of the incomplete runs encountering a convergence issue. 11 time steps per iteration is higher than what would be ideal.\n",
    "\n",
    "Next, of non-converged runs, what are the average metrics regarding failure status."
   ]
  },
  {
   "cell_type": "code",
   "execution_count": 6,
   "metadata": {},
   "outputs": [
    {
     "name": "stdout",
     "output_type": "stream",
     "text": [
      "Strain at non-convergence point - E11: % 1.2492 err: % 0.13439\n",
      "Strain at non-convergence point - E22: % 0.7344 err: % 0.1158\n",
      "Strain at non-convergence point - E12: % 0.6899 err: % 0.11432\n"
     ]
    }
   ],
   "source": [
    "# Look at final strain at point of convergence issue\n",
    "E11 = np.mean(Fail[Log[\"Conv. Iter. Err\"]][\"E11\"]*100)\n",
    "E22 = np.mean(Fail[Log[\"Conv. Iter. Err\"]][\"E22\"]*100)\n",
    "E12 = np.mean(Fail[Log[\"Conv. Iter. Err\"]][\"E12\"]*100)\n",
    "\n",
    "#Standard error\n",
    "S11 = np.std(Fail[Log[\"Conv. Iter. Err\"]][\"E11\"]*100)/np.sqrt(len(Fail[Log[\"Conv. Iter. Err\"]][\"E11\"]))\n",
    "S22 = np.std(Fail[Log[\"Conv. Iter. Err\"]][\"E22\"]*100)/np.sqrt(len(Fail[Log[\"Conv. Iter. Err\"]][\"E22\"]))\n",
    "S12 = np.std(Fail[Log[\"Conv. Iter. Err\"]][\"E12\"]*100)/np.sqrt(len(Fail[Log[\"Conv. Iter. Err\"]][\"E12\"]))\n",
    "\n",
    "print(\"Strain at non-convergence point - E11: %\", round(E11, 4), \"err: %\",round(S11, 5))\n",
    "print(\"Strain at non-convergence point - E22: %\", round(E22, 4), \"err: %\",round(S22, 5))\n",
    "print(\"Strain at non-convergence point - E12: %\", round(E12, 4), \"err: %\",round(S12, 5))"
   ]
  },
  {
   "cell_type": "code",
   "execution_count": 8,
   "metadata": {},
   "outputs": [
    {
     "data": {
      "image/png": "[encoded data removed]",
      "text/plain": [
       "<Figure size 432x288 with 1 Axes>"
      ]
     },
     "metadata": {
      "needs_background": "light"
     },
     "output_type": "display_data"
    }
   ],
   "source": [
    "from matplotlib import pyplot as plt\n",
    "\n",
    "plt.bar([0.8, 1.4, 2], [E11, E22, E12], 0.4, yerr=[S11, S22, S12], tick_label=[\"E11\", \"E22\", \"E12\"])\n",
    "plt.ylabel(\"Strain (mm/mm)\")\n",
    "plt.title(\"Final Strain at Non-convergence point\")\n",
    "plt.show()"
   ]
  },
  {
   "cell_type": "code",
   "execution_count": 9,
   "metadata": {},
   "outputs": [
    {
     "name": "stdout",
     "output_type": "stream",
     "text": [
      "F11 Failed: % 25\n",
      "F22 Failed: % 0\n",
      "F12 Failed: % 6\n"
     ]
    }
   ],
   "source": [
    "# Percentage of non-failed situations for reach component at convergence issue\n",
    "F11 = sum(Fail[Log[\"Conv. Iter. Err\"]][\"Failed S11\"])/len(Fail[Log[\"Conv. Iter. Err\"]][\"Failed S11\"])\n",
    "F22 = sum(Fail[Log[\"Conv. Iter. Err\"]][\"Failed S22\"])/len(Fail[Log[\"Conv. Iter. Err\"]][\"Failed S22\"])\n",
    "F12 = sum(Fail[Log[\"Conv. Iter. Err\"]][\"Failed S12\"])/len(Fail[Log[\"Conv. Iter. Err\"]][\"Failed S12\"])\n",
    "\n",
    "print(\"F11 Failed: %\", round((1-F11)*100))\n",
    "print(\"F22 Failed: %\", round((1-F22)*100))\n",
    "print(\"F12 Failed: %\", round((1-F12)*100))"
   ]
  },
  {
   "cell_type": "code",
   "execution_count": 10,
   "metadata": {},
   "outputs": [
    {
     "name": "stdout",
     "output_type": "stream",
     "text": [
      "P11 Failed: % 72\n",
      "P22 Failed: % 0\n",
      "P12 Failed: % 8\n"
     ]
    }
   ],
   "source": [
    "# Percentage of non-failed models but also incluse the siutations where the model barely fails (using 95% as the criteria)\n",
    "P11 = sum(Fail[Log[\"Conv. Iter. Err\"]][\"F11\"] > 0.95)/len(Fail[Log[\"Conv. Iter. Err\"]][\"F11\"])\n",
    "P22 = sum(Fail[Log[\"Conv. Iter. Err\"]][\"F22\"] > 0.95)/len(Fail[Log[\"Conv. Iter. Err\"]][\"F22\"])\n",
    "P12 = sum(Fail[Log[\"Conv. Iter. Err\"]][\"F12\"] > 0.95)/len(Fail[Log[\"Conv. Iter. Err\"]][\"F12\"])\n",
    "\n",
    "print(\"P11 Failed: %\", round(P11*100))\n",
    "print(\"P22 Failed: %\", round(P22*100))\n",
    "print(\"P12 Failed: %\", round(P12*100))"
   ]
  },
  {
   "cell_type": "markdown",
   "metadata": {},
   "source": [
    "The purpose of these data points are to gain more insight into any component of the model that may be problematic regarding convergence. If a model \"fails\" in a component, we can conclude that particular compenent is robust for failure analysis. However, if, of the unconverged data points, the component never \"fails\" it could be problematic. \n",
    "\n",
    "We see for the initial observation of failure analysis, that 25% of the 11 component are not failed. This does not seem like much, so I went further to see if the model \"barely fails.\" This shows a hit rate of 72% for the 11 component. This makes a much more convining argument that the 11 component is the problematic component considering convergence. "
   ]
  },
  {
   "cell_type": "markdown",
   "metadata": {},
   "source": [
    "Now that we have performed some initial observations on convergence rates and failure analyses, it is time to get into more rigorous exploration of the data with respect to the test cases applied. The main point of this study is to predict if there will be problems with the model for simulation prior to it's launch. This will be dependent on the strain rate applied to the model. \n",
    "\n",
    "A good place to start is \"time step\" and \"iterations per time step.\" Without going into too much detail, \"time step\" (TS) determines how many steps there are for a simulation. A smaller TS generally leads to better convergence, but at the cost of run time. \"Iterations per time step\" is the number of attempts the simulation takes before converging. The more iterations, the tougher the time step was at converging."
   ]
  },
  {
   "cell_type": "code",
   "execution_count": 11,
   "metadata": {},
   "outputs": [
    {
     "data": {
      "image/png": "[encoded data removed]",
      "text/plain": [
       "<Figure size 432x288 with 1 Axes>"
      ]
     },
     "metadata": {
      "needs_background": "light"
     },
     "output_type": "display_data"
    }
   ],
   "source": [
    "#Time step size vs. iterations per time step\n",
    "x = Strain[\"Time Step\"]\n",
    "y = Log[\"Avg_Iterations_perTS\"]\n",
    "\n",
    "plt.scatter(x, y)\n",
    "plt.xlabel(\"Time Step Interval (s)\")\n",
    "plt.ylabel(\"Iterations per Time Step\")\n",
    "plt.title(\"Average Iterations per Time Step\")\n",
    "plt.show()"
   ]
  },
  {
   "cell_type": "code",
   "execution_count": 12,
   "metadata": {},
   "outputs": [
    {
     "name": "stdout",
     "output_type": "stream",
     "text": [
      "R^2: 0.43\n"
     ]
    },
    {
     "data": {
      "image/png": "[encoded data removed]",
      "text/plain": [
       "<Figure size 432x288 with 1 Axes>"
      ]
     },
     "metadata": {
      "needs_background": "light"
     },
     "output_type": "display_data"
    }
   ],
   "source": [
    "from sklearn.linear_model import LinearRegression\n",
    "\n",
    "lg = LinearRegression()\n",
    "lg.fit(x.values.reshape(-1,1), y.values.reshape(-1,1))\n",
    "R2 = lg.score(x.values.reshape(-1,1), y.values.reshape(-1,1))\n",
    "print(\"R^2:\", round(R2, 3))\n",
    "\n",
    "plt.scatter(x, y)\n",
    "plt.plot(np.array([-0.01,0.11]).reshape(-1,1), lg.predict(np.array([-0.01,0.11]).reshape(-1,1)), c='r')\n",
    "plt.xlabel(\"Time Step Interval (s)\")\n",
    "plt.ylabel(\"Iterations per Time Step\")\n",
    "plt.title(\"Average Iterations per Time Step\")\n",
    "plt.show()"
   ]
  },
  {
   "cell_type": "markdown",
   "metadata": {},
   "source": [
    "It is obvious from the scatter plot, that a larger time step leads to more iterations. However, the R2 is pretty large from the simple linear regression. What this tells us is there must be a dependence on the components of applied strain (which is what we showed above). "
   ]
  },
  {
   "cell_type": "markdown",
   "metadata": {},
   "source": [
    "In the \"Strain\" dataframe, there are both the total strains applied and strain per TS applied to each component. I will start out observing the strain per TS, but eventually observe the total applied strain. "
   ]
  },
  {
   "cell_type": "code",
   "execution_count": 13,
   "metadata": {},
   "outputs": [
    {
     "data": {
      "text/plain": [
       "Text(0, 0.5, 'Strain Componenet')"
      ]
     },
     "execution_count": 13,
     "metadata": {},
     "output_type": "execute_result"
    },
    {
     "data": {
      "image/png": "[encoded data removed]",
      "text/plain": [
       "<Figure size 432x288 with 1 Axes>"
      ]
     },
     "metadata": {
      "needs_background": "light"
     },
     "output_type": "display_data"
    }
   ],
   "source": [
    "#Observe the different strain rates to see if there is a clear factor that contributes to convergence isues \n",
    "tmp = np.ones(70)\n",
    "yes = Log[\"Conv. Iter. Err\"]\n",
    "no = ~Log[\"Conv. Iter. Err\"]\n",
    "\n",
    "#Seperate the converged and non-converged runs\n",
    "y11 = Strain[\"Stain 11 per TS\"][yes].value_counts()\n",
    "n11 = Strain[\"Stain 11 per TS\"][no].value_counts()\n",
    "y22 = Strain[\"Strain 22 per TS\"][yes].value_counts()\n",
    "n22 = Strain[\"Strain 22 per TS\"][no].value_counts()\n",
    "y12 = Strain[\"Strain 12 per TS\"][yes].value_counts()\n",
    "n12 = Strain[\"Strain 12 per TS\"][no].value_counts()\n",
    "\n",
    "#Made variables to help control the plotting variables\n",
    "d = 0.25\n",
    "a = 2.5\n",
    "m = 2\n",
    "p = 2.1\n",
    "\n",
    "#Here I tried to be creative in plotting the different points\n",
    "#The larger the dot, the higher frequency of points for that value. \n",
    "#Green is \"converged\" and red is \"non-converged\"\n",
    "#Also made log scale due to the spread in values\n",
    "plt.xscale('log')\n",
    "plt.scatter(y11.index, np.ones(len(y11.index)), color='r', s=(np.power((y11.values+a)*m, p)))\n",
    "plt.scatter(n11.index, np.ones(len(n11.index)) + d, color='g', s=(np.power((n11.values+a)*m, p)))\n",
    "plt.scatter(y22.index, np.ones(len(y22.index))*2, color='r', s=(np.power((y22.values+a)*m, p)))\n",
    "plt.scatter(n22.index, np.ones(len(n22.index))*2 + d, color='g', s=(np.power((n22.values+a)*m, p)))\n",
    "plt.scatter(y12.index, np.ones(len(y12.index))*3, color='r', s=(np.power((y12.values+a)*m, p)))\n",
    "plt.scatter(n12.index, np.ones(len(n12.index))*3 + d, color='g', s=(np.power((n12.values+a)*m, p)))\n",
    "plt.xlim((0.00001,0.01))\n",
    "plt.yticks([1.1, 2.1, 3.1],[\"E11\", \"E22\",\"E12\"])\n",
    "plt.xlabel(\"Strain rate per time step\")\n",
    "plt.ylabel(\"Strain Componenet\")"
   ]
  },
  {
   "cell_type": "markdown",
   "metadata": {},
   "source": [
    "What this plot is showing is if there are any clear determinates for the convergence issues. Since the point sizes are rather distributed, we see that the parameters are coupled. However, we do see that having a large E11 strain rate leads to non-convergence."
   ]
  },
  {
   "cell_type": "code",
   "execution_count": 14,
   "metadata": {},
   "outputs": [
    {
     "data": {
      "text/plain": [
       "Text(0, 0.5, 'Strain Componenet')"
      ]
     },
     "execution_count": 14,
     "metadata": {},
     "output_type": "execute_result"
    },
    {
     "data": {
      "image/png": "[encoded data removed]",
      "text/plain": [
       "<Figure size 432x288 with 1 Axes>"
      ]
     },
     "metadata": {
      "needs_background": "light"
     },
     "output_type": "display_data"
    }
   ],
   "source": [
    "#Observe the different end strains to see if there is a clear factor that contributes to non-convergence\n",
    "tmp = np.ones(70)\n",
    "yes = Log[\"Conv. Iter. Err\"]\n",
    "no = ~Log[\"Conv. Iter. Err\"]\n",
    "\n",
    "y11 = Strain[\"# Stain 11\"][yes].value_counts()\n",
    "n11 = Strain[\"# Stain 11\"][no].value_counts()\n",
    "y22 = Strain[\"Strain 22\"][yes].value_counts()\n",
    "n22 = Strain[\"Strain 22\"][no].value_counts()\n",
    "y12 = Strain[\"Strain 12\"][yes].value_counts()\n",
    "n12 = Strain[\"Strain 12\"][no].value_counts()\n",
    "\n",
    "d = 0.25\n",
    "a = 2\n",
    "m = 3\n",
    "p = 1.5\n",
    "plt.xscale('log')\n",
    "plt.scatter(y11.index, np.ones(len(y11.index)), color='r', s=(np.power((y11.values+a)*m, p)))\n",
    "plt.scatter(n11.index, np.ones(len(n11.index)) + d, color='g', s=(np.power((n11.values+a)*m, p)))\n",
    "plt.scatter(y22.index, np.ones(len(y22.index))*2, color='r', s=(np.power((y22.values+a)*m, p)))\n",
    "plt.scatter(n22.index, np.ones(len(n22.index))*2 + d, color='g', s=(np.power((n22.values+a)*m, p)))\n",
    "plt.scatter(y12.index, np.ones(len(y12.index))*3, color='r', s=(np.power((y12.values+a)*m, p)))\n",
    "plt.scatter(n12.index, np.ones(len(n12.index))*3 + d, color='g', s=(np.power((n12.values+a)*m, p)))\n",
    "plt.yticks([1.1, 2.1, 3.1],[\"E11\", \"E22\",\"E12\"])\n",
    "plt.xlim((0.003,0.1))\n",
    "plt.xticks([0.005, 0.015, 0.05],[\"0.005\", \"0.015\",\"0.05\"])\n",
    "plt.xlabel(\"Total Strain Applied\")\n",
    "plt.ylabel(\"Strain Componenet\")"
   ]
  },
  {
   "cell_type": "markdown",
   "metadata": {},
   "source": [
    "Again, the values are spread. However, wee see that all tests with an E11 of 0.05 leads to non-convergence.\n",
    "\n",
    "The next step is to build a classification model to predict if a test will converge or not. First, we will visualize the data in a 3D plot with the 3 factors shown above. "
   ]
  },
  {
   "cell_type": "code",
   "execution_count": 15,
   "metadata": {},
   "outputs": [
    {
     "data": {
      "text/plain": [
       "Text(0.5, 0, 'Strain 12')"
      ]
     },
     "execution_count": 15,
     "metadata": {},
     "output_type": "execute_result"
    },
    {
     "data": {
      "image/png": "[encoded data removed]",
      "text/plain": [
       "<Figure size 432x288 with 1 Axes>"
      ]
     },
     "metadata": {
      "needs_background": "light"
     },
     "output_type": "display_data"
    }
   ],
   "source": [
    "#3D Plot to visualize parameter correlations\n",
    "import mpl_toolkits\n",
    "from mpl_toolkits import mplot3d\n",
    "\n",
    "fig = plt.figure()\n",
    "ax = plt.axes(projection='3d')\n",
    "\n",
    "x = Strain[\"Stain 11 per TS\"]\n",
    "y = Strain[\"Strain 22 per TS\"]\n",
    "z = Strain[\"Strain 12 per TS\"]\n",
    "res = Log[\"Conv. Iter. Err\"]\n",
    "\n",
    "ax.scatter(x, y, z, c=res, cmap='winter', linewidth=0.5)\n",
    "ax.set_xlabel(\"Strain 11\")\n",
    "ax.set_ylabel(\"Strain 22\")\n",
    "ax.set_zlabel(\"Strain 12\")"
   ]
  },
  {
   "cell_type": "code",
   "execution_count": 16,
   "metadata": {},
   "outputs": [
    {
     "data": {
      "text/plain": [
       "Text(0.5, 0, 'Strain 12')"
      ]
     },
     "execution_count": 16,
     "metadata": {},
     "output_type": "execute_result"
    },
    {
     "data": {
      "image/png": "[encoded data removed]",
      "text/plain": [
       "<Figure size 432x288 with 1 Axes>"
      ]
     },
     "metadata": {
      "needs_background": "light"
     },
     "output_type": "display_data"
    }
   ],
   "source": [
    "#Figure has values clumped at the lower strain values, will plot again but with log values\n",
    "fig = plt.figure()\n",
    "ax = plt.axes(projection='3d')\n",
    "\n",
    "x = np.log(Strain[\"Stain 11 per TS\"])\n",
    "y = np.log(Strain[\"Strain 22 per TS\"])\n",
    "z = np.log(Strain[\"Strain 12 per TS\"])\n",
    "res = Log[\"Conv. Iter. Err\"]\n",
    "\n",
    "ax.scatter(x, y, z, c=res, cmap='winter', linewidth=0.5)\n",
    "ax.set_xlabel(\"Strain 11\")\n",
    "ax.set_ylabel(\"Strain 22\")\n",
    "ax.set_zlabel(\"Strain 12\")"
   ]
  },
  {
   "cell_type": "markdown",
   "metadata": {},
   "source": [
    "There does seem to be a seperation when shown on a 3D plot. This makes the data a solid candidate for a classification model. In this test, I will use support vector machine to classify the data. I will use other methods like \"k-nearest neighbor\" in later projects. "
   ]
  },
  {
   "cell_type": "code",
   "execution_count": 66,
   "metadata": {},
   "outputs": [],
   "source": [
    "#Predictors will be from the \"Strain\" database\n",
    "#Classifier will be the true or false from the Conv. Err. Iter. column in the Log file\n",
    "\n",
    "#Linear Kernal\n",
    "from sklearn.svm import SVC\n",
    "from sklearn import preprocessing\n",
    "\n",
    "#Important to scale the predictors\n",
    "Strain_perTS = [\"Stain 11 per TS\", \"Strain 22 per TS\", \"Strain 33 per TS\", \"Strain 12 per TS\", \"Strain 13 per TS\", \"Strain 23 per TS\"]\n",
    "Strain_perTS = Strain[Strain_perTS]\n",
    "min_max_scaler = preprocessing.MinMaxScaler()\n",
    "Strain_perTS = min_max_scaler.fit_transform(Strain_perTS)\n",
    "\n",
    "#Iterate through different values of \"C\"\n",
    "C=[0.0001, 0.01, 1, 10e2, 10e3]\n",
    "r = []\n",
    "for c in C:\n",
    "    svc = SVC(kernel='linear', C=c)\n",
    "    r.append(svc.fit(Strain_perTS, Log[\"Conv. Iter. Err\"]).score(Strain_perTS, Log[\"Conv. Iter. Err\"]))\n"
   ]
  },
  {
   "cell_type": "code",
   "execution_count": 49,
   "metadata": {},
   "outputs": [
    {
     "data": {
      "text/plain": [
       "Text(0, 0.5, 'Accuracy')"
      ]
     },
     "execution_count": 49,
     "metadata": {},
     "output_type": "execute_result"
    },
    {
     "data": {
      "image/png": "[encoded data removed]",
      "text/plain": [
       "<Figure size 432x288 with 1 Axes>"
      ]
     },
     "metadata": {
      "needs_background": "light"
     },
     "output_type": "display_data"
    }
   ],
   "source": [
    "plt.xscale('log')\n",
    "plt.plot(C, r)\n",
    "plt.xlabel(\"Value of C\")\n",
    "plt.ylabel(\"Accuracy\")"
   ]
  },
  {
   "cell_type": "markdown",
   "metadata": {},
   "source": [
    "The accuracy shows how well the model fits the entire data. It is understood that this is not a great way to judge the expected accuracy of the model, since this is only fitting the given data, and is not validated against another set. I will do this later, but wanted to get an initial understanding if the data can be classified at all. It looks like it can, since we have an accuracy of over 80%. However, this could be from over-fitting. \n",
    "\n",
    "The next step is to use other kernals (polynomial and RBF)."
   ]
  },
  {
   "cell_type": "code",
   "execution_count": 50,
   "metadata": {},
   "outputs": [],
   "source": [
    "C=[0.0001, 0.01, 1, 10e2, 10e3]\n",
    "Deg=[1, 2, 3, 4]\n",
    "\n",
    "for c in C:\n",
    "    for d in Deg:\n",
    "        svc = SVC(kernel='poly', C=c, degree=d, gamma=10)\n",
    "        s = svc.fit(Strain_perTS, Log[\"Conv. Iter. Err\"]).score(Strain_perTS, Log[\"Conv. Iter. Err\"])\n",
    "        r.append(s)\n",
    "\n",
    "#I will use the same values for gamma as I did for C\n",
    "for g in C:\n",
    "    svc = SVC(kernel='rbf', gamma=g)\n",
    "    s = svc.fit(Strain_perTS, Log[\"Conv. Iter. Err\"]).score(Strain_perTS, Log[\"Conv. Iter. Err\"])\n",
    "    r.append(s)\n"
   ]
  },
  {
   "cell_type": "code",
   "execution_count": 54,
   "metadata": {},
   "outputs": [
    {
     "data": {
      "text/html": [
       "<style  type=\"text/css\" >\n",
       "    #T_90276228_300a_11ea_8fe5_70bc107b5545row0_col0 {\n",
       "            background-color:  #f7fbff;\n",
       "            color:  #000000;\n",
       "        }    #T_90276228_300a_11ea_8fe5_70bc107b5545row0_col1 {\n",
       "            background-color:  #f7fbff;\n",
       "            color:  #000000;\n",
       "        }    #T_90276228_300a_11ea_8fe5_70bc107b5545row0_col2 {\n",
       "            background-color:  #c7dbef;\n",
       "            color:  #000000;\n",
       "        }    #T_90276228_300a_11ea_8fe5_70bc107b5545row0_col3 {\n",
       "            background-color:  #abd0e6;\n",
       "            color:  #000000;\n",
       "        }    #T_90276228_300a_11ea_8fe5_70bc107b5545row0_col4 {\n",
       "            background-color:  #4d99ca;\n",
       "            color:  #000000;\n",
       "        }    #T_90276228_300a_11ea_8fe5_70bc107b5545row1_col0 {\n",
       "            background-color:  #f7fbff;\n",
       "            color:  #000000;\n",
       "        }    #T_90276228_300a_11ea_8fe5_70bc107b5545row1_col1 {\n",
       "            background-color:  #f7fbff;\n",
       "            color:  #000000;\n",
       "        }    #T_90276228_300a_11ea_8fe5_70bc107b5545row1_col2 {\n",
       "            background-color:  #f7fbff;\n",
       "            color:  #000000;\n",
       "        }    #T_90276228_300a_11ea_8fe5_70bc107b5545row1_col3 {\n",
       "            background-color:  #f7fbff;\n",
       "            color:  #000000;\n",
       "        }    #T_90276228_300a_11ea_8fe5_70bc107b5545row1_col4 {\n",
       "            background-color:  #f7fbff;\n",
       "            color:  #000000;\n",
       "        }    #T_90276228_300a_11ea_8fe5_70bc107b5545row2_col0 {\n",
       "            background-color:  #0e59a2;\n",
       "            color:  #f1f1f1;\n",
       "        }    #T_90276228_300a_11ea_8fe5_70bc107b5545row2_col1 {\n",
       "            background-color:  #2676b8;\n",
       "            color:  #000000;\n",
       "        }    #T_90276228_300a_11ea_8fe5_70bc107b5545row2_col2 {\n",
       "            background-color:  #85bcdc;\n",
       "            color:  #000000;\n",
       "        }    #T_90276228_300a_11ea_8fe5_70bc107b5545row2_col3 {\n",
       "            background-color:  #d6e6f4;\n",
       "            color:  #000000;\n",
       "        }    #T_90276228_300a_11ea_8fe5_70bc107b5545row2_col4 {\n",
       "            background-color:  #a0cbe2;\n",
       "            color:  #000000;\n",
       "        }    #T_90276228_300a_11ea_8fe5_70bc107b5545row3_col0 {\n",
       "            background-color:  #084b93;\n",
       "            color:  #f1f1f1;\n",
       "        }    #T_90276228_300a_11ea_8fe5_70bc107b5545row3_col1 {\n",
       "            background-color:  #1c6bb0;\n",
       "            color:  #f1f1f1;\n",
       "        }    #T_90276228_300a_11ea_8fe5_70bc107b5545row3_col2 {\n",
       "            background-color:  #1460a8;\n",
       "            color:  #f1f1f1;\n",
       "        }    #T_90276228_300a_11ea_8fe5_70bc107b5545row3_col3 {\n",
       "            background-color:  #8dc1dd;\n",
       "            color:  #000000;\n",
       "        }    #T_90276228_300a_11ea_8fe5_70bc107b5545row3_col4 {\n",
       "            background-color:  #72b2d8;\n",
       "            color:  #000000;\n",
       "        }    #T_90276228_300a_11ea_8fe5_70bc107b5545row4_col0 {\n",
       "            background-color:  #08306b;\n",
       "            color:  #f1f1f1;\n",
       "        }    #T_90276228_300a_11ea_8fe5_70bc107b5545row4_col1 {\n",
       "            background-color:  #08306b;\n",
       "            color:  #f1f1f1;\n",
       "        }    #T_90276228_300a_11ea_8fe5_70bc107b5545row4_col2 {\n",
       "            background-color:  #08306b;\n",
       "            color:  #f1f1f1;\n",
       "        }    #T_90276228_300a_11ea_8fe5_70bc107b5545row4_col3 {\n",
       "            background-color:  #2070b4;\n",
       "            color:  #f1f1f1;\n",
       "        }    #T_90276228_300a_11ea_8fe5_70bc107b5545row4_col4 {\n",
       "            background-color:  #4090c5;\n",
       "            color:  #000000;\n",
       "        }    #T_90276228_300a_11ea_8fe5_70bc107b5545row5_col0 {\n",
       "            background-color:  #f7fbff;\n",
       "            color:  #000000;\n",
       "        }    #T_90276228_300a_11ea_8fe5_70bc107b5545row5_col1 {\n",
       "            background-color:  #f7fbff;\n",
       "            color:  #000000;\n",
       "        }    #T_90276228_300a_11ea_8fe5_70bc107b5545row5_col2 {\n",
       "            background-color:  #85bcdc;\n",
       "            color:  #000000;\n",
       "        }    #T_90276228_300a_11ea_8fe5_70bc107b5545row5_col3 {\n",
       "            background-color:  #08306b;\n",
       "            color:  #f1f1f1;\n",
       "        }    #T_90276228_300a_11ea_8fe5_70bc107b5545row5_col4 {\n",
       "            background-color:  #08306b;\n",
       "            color:  #f1f1f1;\n",
       "        }</style><table id=\"T_90276228_300a_11ea_8fe5_70bc107b5545\" ><thead>    <tr>        <th class=\"blank level0\" ></th>        <th class=\"col_heading level0 col0\" >C or g =0.0001</th>        <th class=\"col_heading level0 col1\" >C or g=0.01</th>        <th class=\"col_heading level0 col2\" >C or g=1</th>        <th class=\"col_heading level0 col3\" >C og g=10e2</th>        <th class=\"col_heading level0 col4\" >C or g=10e3</th>    </tr></thead><tbody>\n",
       "                <tr>\n",
       "                        <th id=\"T_90276228_300a_11ea_8fe5_70bc107b5545level0_row0\" class=\"row_heading level0 row0\" >Linear</th>\n",
       "                        <td id=\"T_90276228_300a_11ea_8fe5_70bc107b5545row0_col0\" class=\"data row0 col0\" >0.514286</td>\n",
       "                        <td id=\"T_90276228_300a_11ea_8fe5_70bc107b5545row0_col1\" class=\"data row0 col1\" >0.514286</td>\n",
       "                        <td id=\"T_90276228_300a_11ea_8fe5_70bc107b5545row0_col2\" class=\"data row0 col2\" >0.7</td>\n",
       "                        <td id=\"T_90276228_300a_11ea_8fe5_70bc107b5545row0_col3\" class=\"data row0 col3\" >0.771429</td>\n",
       "                        <td id=\"T_90276228_300a_11ea_8fe5_70bc107b5545row0_col4\" class=\"data row0 col4\" >0.828571</td>\n",
       "            </tr>\n",
       "            <tr>\n",
       "                        <th id=\"T_90276228_300a_11ea_8fe5_70bc107b5545level0_row1\" class=\"row_heading level0 row1\" >Deg. 1</th>\n",
       "                        <td id=\"T_90276228_300a_11ea_8fe5_70bc107b5545row1_col0\" class=\"data row1 col0\" >0.514286</td>\n",
       "                        <td id=\"T_90276228_300a_11ea_8fe5_70bc107b5545row1_col1\" class=\"data row1 col1\" >0.514286</td>\n",
       "                        <td id=\"T_90276228_300a_11ea_8fe5_70bc107b5545row1_col2\" class=\"data row1 col2\" >0.642857</td>\n",
       "                        <td id=\"T_90276228_300a_11ea_8fe5_70bc107b5545row1_col3\" class=\"data row1 col3\" >0.714286</td>\n",
       "                        <td id=\"T_90276228_300a_11ea_8fe5_70bc107b5545row1_col4\" class=\"data row1 col4\" >0.6</td>\n",
       "            </tr>\n",
       "            <tr>\n",
       "                        <th id=\"T_90276228_300a_11ea_8fe5_70bc107b5545level0_row2\" class=\"row_heading level0 row2\" >Deg. 2</th>\n",
       "                        <td id=\"T_90276228_300a_11ea_8fe5_70bc107b5545row2_col0\" class=\"data row2 col0\" >0.742857</td>\n",
       "                        <td id=\"T_90276228_300a_11ea_8fe5_70bc107b5545row2_col1\" class=\"data row2 col1\" >0.742857</td>\n",
       "                        <td id=\"T_90276228_300a_11ea_8fe5_70bc107b5545row2_col2\" class=\"data row2 col2\" >0.742857</td>\n",
       "                        <td id=\"T_90276228_300a_11ea_8fe5_70bc107b5545row2_col3\" class=\"data row2 col3\" >0.742857</td>\n",
       "                        <td id=\"T_90276228_300a_11ea_8fe5_70bc107b5545row2_col4\" class=\"data row2 col4\" >0.742857</td>\n",
       "            </tr>\n",
       "            <tr>\n",
       "                        <th id=\"T_90276228_300a_11ea_8fe5_70bc107b5545level0_row3\" class=\"row_heading level0 row3\" >Deg. 3</th>\n",
       "                        <td id=\"T_90276228_300a_11ea_8fe5_70bc107b5545row3_col0\" class=\"data row3 col0\" >0.757143</td>\n",
       "                        <td id=\"T_90276228_300a_11ea_8fe5_70bc107b5545row3_col1\" class=\"data row3 col1\" >0.757143</td>\n",
       "                        <td id=\"T_90276228_300a_11ea_8fe5_70bc107b5545row3_col2\" class=\"data row3 col2\" >0.828571</td>\n",
       "                        <td id=\"T_90276228_300a_11ea_8fe5_70bc107b5545row3_col3\" class=\"data row3 col3\" >0.785714</td>\n",
       "                        <td id=\"T_90276228_300a_11ea_8fe5_70bc107b5545row3_col4\" class=\"data row3 col4\" >0.785714</td>\n",
       "            </tr>\n",
       "            <tr>\n",
       "                        <th id=\"T_90276228_300a_11ea_8fe5_70bc107b5545level0_row4\" class=\"row_heading level0 row4\" >Deg. 4</th>\n",
       "                        <td id=\"T_90276228_300a_11ea_8fe5_70bc107b5545row4_col0\" class=\"data row4 col0\" >0.785714</td>\n",
       "                        <td id=\"T_90276228_300a_11ea_8fe5_70bc107b5545row4_col1\" class=\"data row4 col1\" >0.828571</td>\n",
       "                        <td id=\"T_90276228_300a_11ea_8fe5_70bc107b5545row4_col2\" class=\"data row4 col2\" >0.871429</td>\n",
       "                        <td id=\"T_90276228_300a_11ea_8fe5_70bc107b5545row4_col3\" class=\"data row4 col3\" >0.842857</td>\n",
       "                        <td id=\"T_90276228_300a_11ea_8fe5_70bc107b5545row4_col4\" class=\"data row4 col4\" >0.842857</td>\n",
       "            </tr>\n",
       "            <tr>\n",
       "                        <th id=\"T_90276228_300a_11ea_8fe5_70bc107b5545level0_row5\" class=\"row_heading level0 row5\" >RBF</th>\n",
       "                        <td id=\"T_90276228_300a_11ea_8fe5_70bc107b5545row5_col0\" class=\"data row5 col0\" >0.514286</td>\n",
       "                        <td id=\"T_90276228_300a_11ea_8fe5_70bc107b5545row5_col1\" class=\"data row5 col1\" >0.514286</td>\n",
       "                        <td id=\"T_90276228_300a_11ea_8fe5_70bc107b5545row5_col2\" class=\"data row5 col2\" >0.742857</td>\n",
       "                        <td id=\"T_90276228_300a_11ea_8fe5_70bc107b5545row5_col3\" class=\"data row5 col3\" >0.885714</td>\n",
       "                        <td id=\"T_90276228_300a_11ea_8fe5_70bc107b5545row5_col4\" class=\"data row5 col4\" >0.985714</td>\n",
       "            </tr>\n",
       "    </tbody></table>"
      ],
      "text/plain": [
       "<pandas.io.formats.style.Styler at 0x18ba5f94088>"
      ]
     },
     "execution_count": 54,
     "metadata": {},
     "output_type": "execute_result"
    }
   ],
   "source": [
    "r = np.array(r)\n",
    "r = r.reshape(len(Deg)+2,len(C))\n",
    "Index= ['Linear', 'Deg. 1', 'Deg. 2', 'Deg. 3', 'Deg. 4', 'RBF']\n",
    "Cols = ['C or g =0.0001', 'C or g=0.01', 'C or g=1', 'C og g=10e2', 'C or g=10e3']\n",
    "R = pd.DataFrame(data = r, index=Index, columns=Cols)\n",
    "\n",
    "R.style.background_gradient('Blues')"
   ]
  },
  {
   "cell_type": "markdown",
   "metadata": {},
   "source": [
    "The plot here follows what is generally seen with these models. Models of higher orders and complexity fit the data the best, but are subject to over fitting. What we can deduce from this is that even though the 4th degree polynomial shows the highest accuracy, we can get close to it in accuracy using just a linear kernal. Rule of thumb here, whenever we can have a simpler model, we go with it. \n",
    "\n",
    "However, let's see how these model compare for a cross validation study (this will take longer to run since we now have training sets per model)."
   ]
  },
  {
   "cell_type": "code",
   "execution_count": 56,
   "metadata": {},
   "outputs": [],
   "source": [
    "from sklearn.model_selection import cross_val_score\n",
    "\n",
    "r=[]\n",
    "for c in C:\n",
    "    svc = SVC(kernel='linear', C=c)\n",
    "    scores = cross_val_score(svc, Strain_perTS, Log[\"Conv. Iter. Err\"], cv=5)\n",
    "    scores = scores.mean()\n",
    "    r.append(scores)\n",
    "\n",
    "for c in C:\n",
    "    for d in Deg:\n",
    "        svc = SVC(kernel='poly', C=c, degree=d, gamma=10)\n",
    "        scores = cross_val_score(svc, Strain_perTS, Log[\"Conv. Iter. Err\"], cv=5)\n",
    "        scores = scores.mean()\n",
    "        r.append(scores)\n",
    "\n",
    "for g in C:\n",
    "    svc = SVC(kernel='rbf', gamma=g)\n",
    "    scores = cross_val_score(svc, Strain_perTS, Log[\"Conv. Iter. Err\"], cv=5)\n",
    "    scores = scores.mean()\n",
    "    r.append(scores)\n"
   ]
  },
  {
   "cell_type": "code",
   "execution_count": 58,
   "metadata": {},
   "outputs": [
    {
     "data": {
      "text/html": [
       "<style  type=\"text/css\" >\n",
       "    #T_2f5eac4c_300b_11ea_9558_70bc107b5545row0_col0 {\n",
       "            background-color:  #f7fbff;\n",
       "            color:  #000000;\n",
       "        }    #T_2f5eac4c_300b_11ea_9558_70bc107b5545row0_col1 {\n",
       "            background-color:  #f7fbff;\n",
       "            color:  #000000;\n",
       "        }    #T_2f5eac4c_300b_11ea_9558_70bc107b5545row0_col2 {\n",
       "            background-color:  #0f5aa3;\n",
       "            color:  #f1f1f1;\n",
       "        }    #T_2f5eac4c_300b_11ea_9558_70bc107b5545row0_col3 {\n",
       "            background-color:  #084f99;\n",
       "            color:  #f1f1f1;\n",
       "        }    #T_2f5eac4c_300b_11ea_9558_70bc107b5545row0_col4 {\n",
       "            background-color:  #08306b;\n",
       "            color:  #f1f1f1;\n",
       "        }    #T_2f5eac4c_300b_11ea_9558_70bc107b5545row1_col0 {\n",
       "            background-color:  #f7fbff;\n",
       "            color:  #000000;\n",
       "        }    #T_2f5eac4c_300b_11ea_9558_70bc107b5545row1_col1 {\n",
       "            background-color:  #f7fbff;\n",
       "            color:  #000000;\n",
       "        }    #T_2f5eac4c_300b_11ea_9558_70bc107b5545row1_col2 {\n",
       "            background-color:  #4090c5;\n",
       "            color:  #000000;\n",
       "        }    #T_2f5eac4c_300b_11ea_9558_70bc107b5545row1_col3 {\n",
       "            background-color:  #1d6cb1;\n",
       "            color:  #f1f1f1;\n",
       "        }    #T_2f5eac4c_300b_11ea_9558_70bc107b5545row1_col4 {\n",
       "            background-color:  #6caed6;\n",
       "            color:  #000000;\n",
       "        }    #T_2f5eac4c_300b_11ea_9558_70bc107b5545row2_col0 {\n",
       "            background-color:  #08306b;\n",
       "            color:  #f1f1f1;\n",
       "        }    #T_2f5eac4c_300b_11ea_9558_70bc107b5545row2_col1 {\n",
       "            background-color:  #08306b;\n",
       "            color:  #f1f1f1;\n",
       "        }    #T_2f5eac4c_300b_11ea_9558_70bc107b5545row2_col2 {\n",
       "            background-color:  #0f5aa3;\n",
       "            color:  #f1f1f1;\n",
       "        }    #T_2f5eac4c_300b_11ea_9558_70bc107b5545row2_col3 {\n",
       "            background-color:  #08306b;\n",
       "            color:  #f1f1f1;\n",
       "        }    #T_2f5eac4c_300b_11ea_9558_70bc107b5545row2_col4 {\n",
       "            background-color:  #08306b;\n",
       "            color:  #f1f1f1;\n",
       "        }    #T_2f5eac4c_300b_11ea_9558_70bc107b5545row3_col0 {\n",
       "            background-color:  #08488e;\n",
       "            color:  #f1f1f1;\n",
       "        }    #T_2f5eac4c_300b_11ea_9558_70bc107b5545row3_col1 {\n",
       "            background-color:  #549fcd;\n",
       "            color:  #000000;\n",
       "        }    #T_2f5eac4c_300b_11ea_9558_70bc107b5545row3_col2 {\n",
       "            background-color:  #084c95;\n",
       "            color:  #f1f1f1;\n",
       "        }    #T_2f5eac4c_300b_11ea_9558_70bc107b5545row3_col3 {\n",
       "            background-color:  #f7fbff;\n",
       "            color:  #000000;\n",
       "        }    #T_2f5eac4c_300b_11ea_9558_70bc107b5545row3_col4 {\n",
       "            background-color:  #d5e5f4;\n",
       "            color:  #000000;\n",
       "        }    #T_2f5eac4c_300b_11ea_9558_70bc107b5545row4_col0 {\n",
       "            background-color:  #c1d9ed;\n",
       "            color:  #000000;\n",
       "        }    #T_2f5eac4c_300b_11ea_9558_70bc107b5545row4_col1 {\n",
       "            background-color:  #08519c;\n",
       "            color:  #f1f1f1;\n",
       "        }    #T_2f5eac4c_300b_11ea_9558_70bc107b5545row4_col2 {\n",
       "            background-color:  #f7fbff;\n",
       "            color:  #000000;\n",
       "        }    #T_2f5eac4c_300b_11ea_9558_70bc107b5545row4_col3 {\n",
       "            background-color:  #f7fbff;\n",
       "            color:  #000000;\n",
       "        }    #T_2f5eac4c_300b_11ea_9558_70bc107b5545row4_col4 {\n",
       "            background-color:  #f7fbff;\n",
       "            color:  #000000;\n",
       "        }    #T_2f5eac4c_300b_11ea_9558_70bc107b5545row5_col0 {\n",
       "            background-color:  #f7fbff;\n",
       "            color:  #000000;\n",
       "        }    #T_2f5eac4c_300b_11ea_9558_70bc107b5545row5_col1 {\n",
       "            background-color:  #f7fbff;\n",
       "            color:  #000000;\n",
       "        }    #T_2f5eac4c_300b_11ea_9558_70bc107b5545row5_col2 {\n",
       "            background-color:  #08306b;\n",
       "            color:  #f1f1f1;\n",
       "        }    #T_2f5eac4c_300b_11ea_9558_70bc107b5545row5_col3 {\n",
       "            background-color:  #bcd7eb;\n",
       "            color:  #000000;\n",
       "        }    #T_2f5eac4c_300b_11ea_9558_70bc107b5545row5_col4 {\n",
       "            background-color:  #a1cbe2;\n",
       "            color:  #000000;\n",
       "        }</style><table id=\"T_2f5eac4c_300b_11ea_9558_70bc107b5545\" ><thead>    <tr>        <th class=\"blank level0\" ></th>        <th class=\"col_heading level0 col0\" >C or g =0.0001</th>        <th class=\"col_heading level0 col1\" >C or g=0.01</th>        <th class=\"col_heading level0 col2\" >C or g=1</th>        <th class=\"col_heading level0 col3\" >C og g=10e2</th>        <th class=\"col_heading level0 col4\" >C or g=10e3</th>    </tr></thead><tbody>\n",
       "                <tr>\n",
       "                        <th id=\"T_2f5eac4c_300b_11ea_9558_70bc107b5545level0_row0\" class=\"row_heading level0 row0\" >Linear</th>\n",
       "                        <td id=\"T_2f5eac4c_300b_11ea_9558_70bc107b5545row0_col0\" class=\"data row0 col0\" >0.514359</td>\n",
       "                        <td id=\"T_2f5eac4c_300b_11ea_9558_70bc107b5545row0_col1\" class=\"data row0 col1\" >0.514359</td>\n",
       "                        <td id=\"T_2f5eac4c_300b_11ea_9558_70bc107b5545row0_col2\" class=\"data row0 col2\" >0.698462</td>\n",
       "                        <td id=\"T_2f5eac4c_300b_11ea_9558_70bc107b5545row0_col3\" class=\"data row0 col3\" >0.712747</td>\n",
       "                        <td id=\"T_2f5eac4c_300b_11ea_9558_70bc107b5545row0_col4\" class=\"data row0 col4\" >0.712747</td>\n",
       "            </tr>\n",
       "            <tr>\n",
       "                        <th id=\"T_2f5eac4c_300b_11ea_9558_70bc107b5545level0_row1\" class=\"row_heading level0 row1\" >Deg. 1</th>\n",
       "                        <td id=\"T_2f5eac4c_300b_11ea_9558_70bc107b5545row1_col0\" class=\"data row1 col0\" >0.514359</td>\n",
       "                        <td id=\"T_2f5eac4c_300b_11ea_9558_70bc107b5545row1_col1\" class=\"data row1 col1\" >0.514359</td>\n",
       "                        <td id=\"T_2f5eac4c_300b_11ea_9558_70bc107b5545row1_col2\" class=\"data row1 col2\" >0.643223</td>\n",
       "                        <td id=\"T_2f5eac4c_300b_11ea_9558_70bc107b5545row1_col3\" class=\"data row1 col3\" >0.685128</td>\n",
       "                        <td id=\"T_2f5eac4c_300b_11ea_9558_70bc107b5545row1_col4\" class=\"data row1 col4\" >0.600366</td>\n",
       "            </tr>\n",
       "            <tr>\n",
       "                        <th id=\"T_2f5eac4c_300b_11ea_9558_70bc107b5545level0_row2\" class=\"row_heading level0 row2\" >Deg. 2</th>\n",
       "                        <td id=\"T_2f5eac4c_300b_11ea_9558_70bc107b5545row2_col0\" class=\"data row2 col0\" >0.670842</td>\n",
       "                        <td id=\"T_2f5eac4c_300b_11ea_9558_70bc107b5545row2_col1\" class=\"data row2 col1\" >0.741319</td>\n",
       "                        <td id=\"T_2f5eac4c_300b_11ea_9558_70bc107b5545row2_col2\" class=\"data row2 col2\" >0.698462</td>\n",
       "                        <td id=\"T_2f5eac4c_300b_11ea_9558_70bc107b5545row2_col3\" class=\"data row2 col3\" >0.741319</td>\n",
       "                        <td id=\"T_2f5eac4c_300b_11ea_9558_70bc107b5545row2_col4\" class=\"data row2 col4\" >0.712747</td>\n",
       "            </tr>\n",
       "            <tr>\n",
       "                        <th id=\"T_2f5eac4c_300b_11ea_9558_70bc107b5545level0_row3\" class=\"row_heading level0 row3\" >Deg. 3</th>\n",
       "                        <td id=\"T_2f5eac4c_300b_11ea_9558_70bc107b5545row3_col0\" class=\"data row3 col0\" >0.656557</td>\n",
       "                        <td id=\"T_2f5eac4c_300b_11ea_9558_70bc107b5545row3_col1\" class=\"data row3 col1\" >0.643223</td>\n",
       "                        <td id=\"T_2f5eac4c_300b_11ea_9558_70bc107b5545row3_col2\" class=\"data row3 col2\" >0.712747</td>\n",
       "                        <td id=\"T_2f5eac4c_300b_11ea_9558_70bc107b5545row3_col3\" class=\"data row3 col3\" >0.501319</td>\n",
       "                        <td id=\"T_2f5eac4c_300b_11ea_9558_70bc107b5545row3_col4\" class=\"data row3 col4\" >0.527692</td>\n",
       "            </tr>\n",
       "            <tr>\n",
       "                        <th id=\"T_2f5eac4c_300b_11ea_9558_70bc107b5545level0_row4\" class=\"row_heading level0 row4\" >Deg. 4</th>\n",
       "                        <td id=\"T_2f5eac4c_300b_11ea_9558_70bc107b5545row4_col0\" class=\"data row4 col0\" >0.556264</td>\n",
       "                        <td id=\"T_2f5eac4c_300b_11ea_9558_70bc107b5545row4_col1\" class=\"data row4 col1\" >0.712747</td>\n",
       "                        <td id=\"T_2f5eac4c_300b_11ea_9558_70bc107b5545row4_col2\" class=\"data row4 col2\" >0.474359</td>\n",
       "                        <td id=\"T_2f5eac4c_300b_11ea_9558_70bc107b5545row4_col3\" class=\"data row4 col3\" >0.501978</td>\n",
       "                        <td id=\"T_2f5eac4c_300b_11ea_9558_70bc107b5545row4_col4\" class=\"data row4 col4\" >0.488645</td>\n",
       "            </tr>\n",
       "            <tr>\n",
       "                        <th id=\"T_2f5eac4c_300b_11ea_9558_70bc107b5545level0_row5\" class=\"row_heading level0 row5\" >RBF</th>\n",
       "                        <td id=\"T_2f5eac4c_300b_11ea_9558_70bc107b5545row5_col0\" class=\"data row5 col0\" >0.514359</td>\n",
       "                        <td id=\"T_2f5eac4c_300b_11ea_9558_70bc107b5545row5_col1\" class=\"data row5 col1\" >0.514359</td>\n",
       "                        <td id=\"T_2f5eac4c_300b_11ea_9558_70bc107b5545row5_col2\" class=\"data row5 col2\" >0.741319</td>\n",
       "                        <td id=\"T_2f5eac4c_300b_11ea_9558_70bc107b5545row5_col3\" class=\"data row5 col3\" >0.569597</td>\n",
       "                        <td id=\"T_2f5eac4c_300b_11ea_9558_70bc107b5545row5_col4\" class=\"data row5 col4\" >0.570549</td>\n",
       "            </tr>\n",
       "    </tbody></table>"
      ],
      "text/plain": [
       "<pandas.io.formats.style.Styler at 0x18ba60d8208>"
      ]
     },
     "execution_count": 58,
     "metadata": {},
     "output_type": "execute_result"
    }
   ],
   "source": [
    "r = np.array(r)\n",
    "r = r.reshape(len(Deg)+2,len(C))\n",
    "R = pd.DataFrame(data = r, index=Index, columns=Cols)\n",
    "R.style.background_gradient(cmap='Blues')"
   ]
  },
  {
   "cell_type": "markdown",
   "metadata": {},
   "source": [
    "As expected, the accuracy is lower for a 5 fold cross-validation. However, the results are still pretty good. The kernel that saw the lowest reduction in accuracy was the 2nd degree polynomial. Although this is good, I still believe it is best to move forward with the linear kernal. "
   ]
  },
  {
   "cell_type": "code",
   "execution_count": 59,
   "metadata": {},
   "outputs": [
    {
     "data": {
      "text/plain": [
       "0.7413186813186814"
      ]
     },
     "execution_count": 59,
     "metadata": {},
     "output_type": "execute_result"
    }
   ],
   "source": [
    "svc = SVC(kernel='linear', C=2)\n",
    "scores = cross_val_score(svc, Strain_perTS, Log[\"Conv. Iter. Err\"], cv=5)\n",
    "score = scores.mean()\n",
    "score"
   ]
  },
  {
   "cell_type": "markdown",
   "metadata": {},
   "source": [
    "Using this data, we can expect 75% accuracy in deciding if the model will converge. This isn't great, but I believe there are a few explanations here. \n",
    "\n",
    "1) 70 data points is not a lot for 6 factors - we could use more data points\n",
    "2) 6 factors for 70 data points is a lot - we could use some techniques to reduce the number of factors or reduce the influence on these factors (forward selection, elastic net, lasso, etc)\n",
    "3) We did not do any outlier analysis - even though this is FEA, there is some randomness when it comes to non-convergence error. We could possibly perform a correlation to this error and the results deviance from the model.\n",
    "\n",
    "I will end this study here even though we can go into much more detail and analysis. The last thing I will do is see if this model works better with the data I used, or the other data set that uses on total applied strain and time step. "
   ]
  },
  {
   "cell_type": "code",
   "execution_count": 69,
   "metadata": {},
   "outputs": [],
   "source": [
    "Total_Strain = [\"# Stain 11\", \"Strain 22\", \"Strain 33\", \"Strain 12\", \"Strain 13\", \"Strain 23\", \"Time Step\"]\n",
    "Total_Strain = Strain[Total_Strain]\n",
    "min_max_scaler = preprocessing.MinMaxScaler()\n",
    "Total_Strain = min_max_scaler.fit_transform(Total_Strain)\n",
    "C=[0.0001, 0.01, 1, 10e2, 10e3]\n",
    "\n",
    "r = []\n",
    "for c in C:\n",
    "    svc = SVC(kernel='linear', C=c)\n",
    "    scores = cross_val_score(svc, Total_Strain, Log[\"Conv. Iter. Err\"], cv=5)\n",
    "    score = scores.mean()\n",
    "    r.append(score)\n"
   ]
  },
  {
   "cell_type": "code",
   "execution_count": 70,
   "metadata": {},
   "outputs": [
    {
     "data": {
      "text/plain": [
       "[0.5143589743589743,\n",
       " 0.5143589743589743,\n",
       " 0.7821245421245422,\n",
       " 0.7708424908424908,\n",
       " 0.7708424908424908]"
      ]
     },
     "execution_count": 70,
     "metadata": {},
     "output_type": "execute_result"
    }
   ],
   "source": [
    "r"
   ]
  },
  {
   "cell_type": "markdown",
   "metadata": {},
   "source": [
    "Well, this it is obvious it is actually better to use the total strain values and the time step size to predict the convergence of the model. However, like what was stated above, there are some issues that can be worked through. "
   ]
  },
  {
   "cell_type": "code",
   "execution_count": null,
   "metadata": {},
   "outputs": [],
   "source": []
  }
 ],
 "metadata": {
  "kernelspec": {
   "display_name": "Python 3",
   "language": "python",
   "name": "python3"
  },
  "language_info": {
   "codemirror_mode": {
    "name": "ipython",
    "version": 3
   },
   "file_extension": ".py",
   "mimetype": "text/x-python",
   "name": "python",
   "nbconvert_exporter": "python",
   "pygments_lexer": "ipython3",
   "version": "3.7.4"
  }
 },
 "nbformat": 4,
 "nbformat_minor": 2
}
